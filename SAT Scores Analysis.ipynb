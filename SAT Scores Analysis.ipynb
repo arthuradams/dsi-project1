{
 "cells": [
  {
   "cell_type": "markdown",
   "metadata": {},
   "source": [
    "# Project 1\n",
    "## Step 1: Open the sat_scores.csv file. Investigate the data, and answer the questions below.\n",
    "\n",
    "1. What does the data describe?\n",
    "\n",
    "For each US state, plus the District of Columbia, the data covers the percentage of students taking the SAT, and the average(?) verbal and math scores. \n",
    "\n",
    "2. Does the data look complete? Are there any obvious issues with the observations?\n",
    "\n",
    "It appears complete in that there are 51 sets of data points, and none appear to be glaringly anomalous. The wide range of participation rates is a little surprising to me, but since they are somewhat contiguous, rather than clustered with a few outliers, I'll assume it's accurate data. \n",
    "\n",
    "Some better definitions would be nice. What students are counted in the rate -- all graduating seniors, perhaps? Are the scores really an average? Does this data represent a single year or multiple years? \n",
    "\n",
    "The fact that Nebraska uses an older definition makes me suspect the data itself might be years out of date. That's no guarantee; it could also be an error in the data. If this was data handewd me by a client, I'd ask. \n",
    "\n",
    "3. Create a data dictionary for the dataset.\n",
    "\n",
    "| Field Name | Data Type | Field Length | Constraint                                 | Description                                    |\n",
    "|------------|-----------|--------------|--------------------------------------------|------------------------------------------------|\n",
    "| State      | String    | 2            | Must be in list of US postal abbreviations | US state represented by data                   |\n",
    "| Rate       | Int       | 8 bits       | 0 <= Rate <= 100                           | Percentage of students in state taking the SAT |\n",
    "| Verbal     | Int       | 8 bits      | 200 <= Verbal <= 800                       | Average(?) Verbal Score                        |\n",
    "| Math       | Int       | 8 bits      | 200 <= Math <= 800                         | Average(?) Verbal Score                        |\n",
    "\n",
    "## Step 2: Load the data.\n",
    "4. Load the data into a list of lists\n",
    "\n",
    "I'm not happy about the way I'm doing this and hard-coding the column titles. They are stored in what np.genfromtext returns, but I can't come up with a satisfactory way to make it work \"nicely\", so I'm kind of \"brute-forcing\" it for now. My instincts are that I'm missing something simple."
   ]
  },
  {
   "cell_type": "code",
   "execution_count": 1,
   "metadata": {
    "collapsed": false
   },
   "outputs": [],
   "source": [
    "# Get all our imports out of the way \n",
    "import numpy as np\n",
    "from numpy import mean, median, std, ptp, var\n",
    "from scipy.stats import mode, skew\n",
    "from scipy.optimize import curve_fit\n",
    "\n",
    "import matplotlib\n",
    "import matplotlib.pyplot as plt\n",
    "\n",
    "import math"
   ]
  },
  {
   "cell_type": "code",
   "execution_count": 2,
   "metadata": {
    "collapsed": false
   },
   "outputs": [],
   "source": [
    "def buildDictionaries( data ):\n",
    "    # Go through the CSV data and store as a ist of lists.\n",
    "    dataLists = { \"Rate\" : {}, \"Verbal\" : {}, \"Math\" : {} }\n",
    "    for row in data:\n",
    "        dataLists[\"Rate\"][row[0]] = row[1]\n",
    "        dataLists[\"Verbal\"][row[0]] = row[2]\n",
    "        dataLists[\"Math\"][row[0]] = row[3]\n",
    "    return dataLists\n",
    "\n",
    "# File where the data lives. \n",
    "filename = \"sat_scores.csv\"\n",
    "\n",
    "# Read in the file\n",
    "sat_csv = np.genfromtxt(filename, dtype = None, names = True, delimiter = \",\")\n",
    "\n",
    "dataDict = buildDictionaries( sat_csv )"
   ]
  },
  {
   "cell_type": "markdown",
   "metadata": {},
   "source": [
    "5. Print the data\n",
    "This is just a straightforward iteration over a list of lists.\n",
    "This does bring up one thing I'm not sure i understand about Jupyter notebooks.\n",
    "I'm \"old-school\" and like to put all my function definitions at the top of the file,\n",
    "but these notebooks seem to encourage putting your function definitions where they're\n",
    "first needed. Is the latter the proper form for Jupyter notebooks?"
   ]
  },
  {
   "cell_type": "code",
   "execution_count": 3,
   "metadata": {
    "collapsed": false
   },
   "outputs": [
    {
     "name": "stdout",
     "output_type": "stream",
     "text": [
      "Rate : WA : 53\n",
      "Rate : DE : 67\n",
      "Rate : DC : 56\n",
      "Rate : WI : 6\n",
      "Rate : WV : 18\n",
      "Rate : HI : 52\n",
      "Rate : FL : 54\n",
      "Rate : WY : 11\n",
      "Rate : NH : 72\n",
      "Rate : NJ : 81\n",
      "Rate : NM : 13\n",
      "Rate : TX : 53\n",
      "Rate : LA : 7\n",
      "Rate : NC : 65\n",
      "Rate : ND : 4\n",
      "Rate : NE : 8\n",
      "Rate : TN : 13\n",
      "Rate : NY : 77\n",
      "Rate : PA : 71\n",
      "Rate : RI : 71\n",
      "Rate : NV : 33\n",
      "Rate : VA : 68\n",
      "Rate : CO : 31\n",
      "Rate : AK : 51\n",
      "Rate : AL : 9\n",
      "Rate : AR : 6\n",
      "Rate : VT : 69\n",
      "Rate : IL : 12\n",
      "Rate : GA : 63\n",
      "Rate : IN : 60\n",
      "Rate : IA : 5\n",
      "Rate : OK : 8\n",
      "Rate : AZ : 34\n",
      "Rate : CA : 51\n",
      "Rate : ID : 17\n",
      "Rate : CT : 82\n",
      "Rate : ME : 69\n",
      "Rate : MD : 65\n",
      "Rate : MA : 79\n",
      "Rate : OH : 26\n",
      "Rate : UT : 5\n",
      "Rate : MO : 8\n",
      "Rate : MN : 9\n",
      "Rate : MI : 11\n",
      "Rate : KS : 9\n",
      "Rate : MT : 23\n",
      "Rate : MS : 4\n",
      "Rate : SC : 57\n",
      "Rate : KY : 12\n",
      "Rate : OR : 55\n",
      "Rate : SD : 4\n",
      "Math : WA : 527\n",
      "Math : DE : 499\n",
      "Math : DC : 474\n",
      "Math : WI : 596\n",
      "Math : WV : 512\n",
      "Math : HI : 515\n",
      "Math : FL : 499\n",
      "Math : WY : 545\n",
      "Math : NH : 516\n",
      "Math : NJ : 513\n",
      "Math : NM : 542\n",
      "Math : TX : 499\n",
      "Math : LA : 562\n",
      "Math : NC : 499\n",
      "Math : ND : 599\n",
      "Math : NE : 568\n",
      "Math : TN : 553\n",
      "Math : NY : 505\n",
      "Math : PA : 499\n",
      "Math : RI : 499\n",
      "Math : NV : 515\n",
      "Math : VA : 501\n",
      "Math : CO : 542\n",
      "Math : AK : 510\n",
      "Math : AL : 554\n",
      "Math : AR : 550\n",
      "Math : VT : 506\n",
      "Math : IL : 589\n",
      "Math : GA : 489\n",
      "Math : IN : 501\n",
      "Math : IA : 603\n",
      "Math : OK : 561\n",
      "Math : AZ : 525\n",
      "Math : CA : 517\n",
      "Math : ID : 542\n",
      "Math : CT : 510\n",
      "Math : ME : 500\n",
      "Math : MD : 510\n",
      "Math : MA : 515\n",
      "Math : OH : 439\n",
      "Math : UT : 570\n",
      "Math : MO : 577\n",
      "Math : MN : 589\n",
      "Math : MI : 572\n",
      "Math : KS : 580\n",
      "Math : MT : 539\n",
      "Math : MS : 551\n",
      "Math : SC : 488\n",
      "Math : KY : 550\n",
      "Math : OR : 526\n",
      "Math : SD : 582\n",
      "Verbal : WA : 527\n",
      "Verbal : DE : 501\n",
      "Verbal : DC : 482\n",
      "Verbal : WI : 584\n",
      "Verbal : WV : 527\n",
      "Verbal : HI : 485\n",
      "Verbal : FL : 498\n",
      "Verbal : WY : 547\n",
      "Verbal : NH : 520\n",
      "Verbal : NJ : 499\n",
      "Verbal : NM : 551\n",
      "Verbal : TX : 493\n",
      "Verbal : LA : 564\n",
      "Verbal : NC : 493\n",
      "Verbal : ND : 592\n",
      "Verbal : NE : 562\n",
      "Verbal : TN : 562\n",
      "Verbal : NY : 495\n",
      "Verbal : PA : 500\n",
      "Verbal : RI : 501\n",
      "Verbal : NV : 509\n",
      "Verbal : VA : 510\n",
      "Verbal : CO : 539\n",
      "Verbal : AK : 514\n",
      "Verbal : AL : 559\n",
      "Verbal : AR : 562\n",
      "Verbal : VT : 511\n",
      "Verbal : IL : 576\n",
      "Verbal : GA : 491\n",
      "Verbal : IN : 499\n",
      "Verbal : IA : 593\n",
      "Verbal : OK : 567\n",
      "Verbal : AZ : 523\n",
      "Verbal : CA : 498\n",
      "Verbal : ID : 543\n",
      "Verbal : CT : 509\n",
      "Verbal : ME : 506\n",
      "Verbal : MD : 508\n",
      "Verbal : MA : 511\n",
      "Verbal : OH : 534\n",
      "Verbal : UT : 575\n",
      "Verbal : MO : 577\n",
      "Verbal : MN : 580\n",
      "Verbal : MI : 561\n",
      "Verbal : KS : 577\n",
      "Verbal : MT : 539\n",
      "Verbal : MS : 566\n",
      "Verbal : SC : 486\n",
      "Verbal : KY : 550\n",
      "Verbal : OR : 526\n",
      "Verbal : SD : 577\n",
      "\n"
     ]
    }
   ],
   "source": [
    "def listOfListsString( datadict ):\n",
    "    printable = \"\"\n",
    "    \n",
    "    # Iterate over the first key\n",
    "    for key1 in datadict:\n",
    "        # And the second\n",
    "        for key2 in datadict[key1]:\n",
    "            # Add to s string showing the data\n",
    "            printable += str( key1 ) + \" : \" + str( key2 ) + \" : \" +\\\n",
    "                str( datadict[key1][key2] ) + \"\\n\"\n",
    "    # Return the string\n",
    "    return printable\n",
    "\n",
    "# Print the data\n",
    "print listOfListsString( dataDict )"
   ]
  },
  {
   "cell_type": "markdown",
   "metadata": {
    "collapsed": true
   },
   "source": [
    "7. Extract a list of the labels from the data, and remove them from the data.\n",
    "My store method already removes them.\n",
    "\n",
    "8. Print the types of each column"
   ]
  },
  {
   "cell_type": "code",
   "execution_count": 4,
   "metadata": {
    "collapsed": false
   },
   "outputs": [
    {
     "name": "stdout",
     "output_type": "stream",
     "text": [
      "[('State', 'S2'), ('Rate', '<i8'), ('Verbal', '<i8'), ('Math', '<i8')]\n"
     ]
    }
   ],
   "source": [
    "print str( sat_csv.dtype )\n"
   ]
  },
  {
   "cell_type": "markdown",
   "metadata": {},
   "source": [
    "9. Do any types need to be reassigned? If so, go ahead and do it.\n",
    "\n",
    "They look good. The states arew 2-char string, the rate and two scores are all ints. "
   ]
  },
  {
   "cell_type": "markdown",
   "metadata": {},
   "source": [
    "10. Create a dictionary for each column mapping the State to its respective value for that column.\n",
    "Again, I'm hardcoding the names; I don't like doing that. "
   ]
  },
  {
   "cell_type": "code",
   "execution_count": 5,
   "metadata": {
    "collapsed": false
   },
   "outputs": [],
   "source": [
    "def getStates( data ):\n",
    "    states = []\n",
    "    for row in data:\n",
    "        states.append( row[0] )\n",
    "    return states\n",
    "    \n",
    "\n",
    "def buildDictionaries( data ):\n",
    "    # Create a dictionary out of a list in the order Rate, Verbal, Math\n",
    "    dataLists = { \"Rate\" : {}, \"Verbal\" : {}, \"Math\" : {} }\n",
    "    for row in data:\n",
    "        dataLists[\"Rate\"][row[0]] = row[1]\n",
    "        dataLists[\"Verbal\"][row[0]] = row[2]\n",
    "        dataLists[\"Math\"][row[0]] = row[3]\n",
    "    return dataLists\n",
    "    \n",
    "def getAxis( stateKeys, colDict ):\n",
    "    # Create a dictionary for column's entries, with the state as a key.  \n",
    "    axis = []\n",
    "    for state in stateKeys:\n",
    "        axis.append( colDict[state] )\n",
    "    return axis\n",
    "\n",
    "stateList = getStates( sat_csv )\n",
    "\n",
    "rateAxis = getAxis( stateList, dataDict[\"Rate\"])\n",
    "verbalAxis = getAxis( stateList, dataDict[\"Verbal\"])\n",
    "mathAxis = getAxis( stateList, dataDict[\"Math\"])"
   ]
  },
  {
   "cell_type": "markdown",
   "metadata": {},
   "source": [
    "12. Print the min and max of each column"
   ]
  },
  {
   "cell_type": "code",
   "execution_count": 6,
   "metadata": {
    "collapsed": false
   },
   "outputs": [
    {
     "name": "stdout",
     "output_type": "stream",
     "text": [
      "Rate minimum: 4\n",
      "Rate maximum: 82\n",
      "Verbal minimum: 482\n",
      "Verbal maximum: 593\n",
      "Math minimum: 439\n",
      "Math maximum: 603\n"
     ]
    }
   ],
   "source": [
    "print \"Rate minimum: \" + str( min(rateAxis) )\n",
    "print \"Rate maximum: \" + str( max(rateAxis) )\n",
    "print \"Verbal minimum: \" + str( min(verbalAxis) )\n",
    "print \"Verbal maximum: \" + str( max(verbalAxis) )\n",
    "print \"Math minimum: \" + str( min(mathAxis) )\n",
    "print \"Math maximum: \" + str( max(mathAxis) )"
   ]
  },
  {
   "cell_type": "markdown",
   "metadata": {},
   "source": [
    "13. Write a function using only list comprehensions, no loops, to compute Standard Deviation. Print the Standard Deviation of each numeric column"
   ]
  },
  {
   "cell_type": "code",
   "execution_count": 7,
   "metadata": {
    "collapsed": false
   },
   "outputs": [
    {
     "name": "stdout",
     "output_type": "stream",
     "text": [
      "Rate standard deviation: 27.2792386761\n",
      "Verbal standard deviation: 33.0319826842\n",
      "Math standard deviation: 35.9298731731\n"
     ]
    }
   ],
   "source": [
    "def myVariance( data ):\n",
    "    average = float( sum ( data ) )/float(len (data))\n",
    "    return sum( [(n - average) ** 2 for n in data])/float( len(data))\n",
    "\n",
    "def myStandardDeviation( data ):\n",
    "    return math.sqrt( myVariance(data) )\n",
    "\n",
    "print \"Rate standard deviation: \" + str(myStandardDeviation(dataDict[\"Rate\"].values()))\n",
    "print \"Verbal standard deviation: \" + str(myStandardDeviation(dataDict[\"Verbal\"].values()))\n",
    "print \"Math standard deviation: \" + str(myStandardDeviation(dataDict[\"Math\"].values()))"
   ]
  },
  {
   "cell_type": "markdown",
   "metadata": {},
   "source": [
    "14. Using MatPlotLib and PyPlot, plot the distribution of the Rate using histograms."
   ]
  },
  {
   "cell_type": "code",
   "execution_count": 8,
   "metadata": {
    "collapsed": false
   },
   "outputs": [],
   "source": [
    "plt.hist(rateAxis)\n",
    "plt.xlabel(\"Percentage of Students Taking SAT\")\n",
    "plt.title(\"Rate Histogram\")\n",
    "plt.show()"
   ]
  },
  {
   "cell_type": "markdown",
   "metadata": {},
   "source": [
    "![Rate Histogram](rate_histo.png)"
   ]
  },
  {
   "cell_type": "markdown",
   "metadata": {},
   "source": [
    "15. Plot the Math distribution"
   ]
  },
  {
   "cell_type": "code",
   "execution_count": 9,
   "metadata": {
    "collapsed": true
   },
   "outputs": [],
   "source": [
    "plt.hist(mathAxis)\n",
    "plt.xlabel(\"Average Math Scores\")\n",
    "plt.title(\"Math Score Histogram\")\n",
    "plt.show()"
   ]
  },
  {
   "cell_type": "markdown",
   "metadata": {},
   "source": [
    "![Math Histogram](math_histo.png)"
   ]
  },
  {
   "cell_type": "markdown",
   "metadata": {},
   "source": [
    "16. Plot the Verbal distribution"
   ]
  },
  {
   "cell_type": "code",
   "execution_count": 10,
   "metadata": {
    "collapsed": true
   },
   "outputs": [],
   "source": [
    "plt.hist(verbalAxis)\n",
    "plt.xlabel(\"Average Verbal Scores\")\n",
    "plt.title(\"Verbal Score Histogram\")\n",
    "plt.show()"
   ]
  },
  {
   "cell_type": "markdown",
   "metadata": {},
   "source": [
    "![Verbal Histogram](verbal_histo.png)"
   ]
  },
  {
   "cell_type": "markdown",
   "metadata": {},
   "source": [
    "17. What is the typical assumption for data distribution?\n",
    "\n",
    "That it follows a normal, bell-shapee distributions."
   ]
  },
  {
   "cell_type": "markdown",
   "metadata": {},
   "source": [
    "18. Does that distribution hold true for our data?\n",
    "\n",
    "Not at all! If anything, it's a bit of an inverted bell curve, with a \"dip\" in the middle for all three."
   ]
  },
  {
   "cell_type": "markdown",
   "metadata": {},
   "source": [
    "19. Plot some scatterplots. BONUS: Use a PyPlot figure to present multiple plots at once."
   ]
  },
  {
   "cell_type": "code",
   "execution_count": 11,
   "metadata": {
    "collapsed": false
   },
   "outputs": [],
   "source": [
    "plt.plot( rateAxis, verbalAxis, color=\"red\" )\n",
    "plt.scatter(rateAxis, verbalAxis, color=\"red\" )\n",
    "plt.xlabel(\"Rate\")\n",
    "plt.plot( rateAxis, mathAxis, color=\"blue\" )\n",
    "plt.scatter(rateAxis,mathAxis, color=\"blue\" )\n",
    "plt.ylabel(\"Verbal Score (Red)\\nMath Score (Blue)\")\n",
    "plt.show()"
   ]
  },
  {
   "cell_type": "markdown",
   "metadata": {},
   "source": [
    "![Verbal and Math Scatterplot](verbal_and_math_scatter.png)"
   ]
  },
  {
   "cell_type": "code",
   "execution_count": 12,
   "metadata": {
    "collapsed": true
   },
   "outputs": [],
   "source": [
    "plt.scatter(verbalAxis, mathAxis)\n",
    "plt.xlabel(\"Verbal Score\")\n",
    "plt.ylabel(\"Math Score\")\n",
    "plt.show()"
   ]
  },
  {
   "cell_type": "markdown",
   "metadata": {},
   "source": [
    "![Verbal Scores vs Math Scores](verbal_vs_math_scatter.png)"
   ]
  },
  {
   "cell_type": "markdown",
   "metadata": {},
   "source": [
    "20. Are there any interesting relationships to note?\n",
    "\n",
    "Though there's not a strong correlation, it seems the more students take the SAT, the lower the average score. At first, this seemed slightly odd, but I realized that in states where 5% or so of students take the teet, it's likely that the top students are the ones taking the test. In states where a majority, if not a vast majority, are taking the exam, there will be more students who are not top performers. (This is not Lake Wobegon, where all the students are above average1)"
   ]
  },
  {
   "cell_type": "markdown",
   "metadata": {},
   "source": [
    "21. Create box plots for each variable."
   ]
  },
  {
   "cell_type": "code",
   "execution_count": 18,
   "metadata": {
    "collapsed": false
   },
   "outputs": [],
   "source": [
    "plt.boxplot(rateAxis,0,'rs',0)\n",
    "plt.title(\"Rate Boxplot\")\n",
    "plt.show()"
   ]
  },
  {
   "cell_type": "markdown",
   "metadata": {},
   "source": [
    "![Rate Boxplot](rate_boxplot.png)"
   ]
  },
  {
   "cell_type": "code",
   "execution_count": 19,
   "metadata": {
    "collapsed": true
   },
   "outputs": [],
   "source": [
    "plt.boxplot(verbalAxis)\n",
    "plt.title(\"Verbal Scores Boxplot\")\n",
    "plt.show()"
   ]
  },
  {
   "cell_type": "markdown",
   "metadata": {},
   "source": [
    "![Math Scores Boxplot](verbal_boxplot.png)"
   ]
  },
  {
   "cell_type": "code",
   "execution_count": null,
   "metadata": {
    "collapsed": true
   },
   "outputs": [],
   "source": [
    "plt.boxplot(mathAxis,0,'gD')\n",
    "plt.title(\"Math Scores Boxplot\")\n",
    "plt.show()"
   ]
  },
  {
   "cell_type": "markdown",
   "metadata": {},
   "source": [
    "![Math Scores Boxplot](math_boxplot.png)"
   ]
  },
  {
   "cell_type": "markdown",
   "metadata": {},
   "source": [
    "BONUS: Using Tableau, create a heat map for each variable using a map of the US.\n",
    "\n",
    "Done, but how I attach it here? "
   ]
  }
 ],
 "metadata": {
  "celltoolbar": "Raw Cell Format",
  "kernelspec": {
   "display_name": "Python 2",
   "language": "python",
   "name": "python2"
  },
  "language_info": {
   "codemirror_mode": {
    "name": "ipython",
    "version": 2
   },
   "file_extension": ".py",
   "mimetype": "text/x-python",
   "name": "python",
   "nbconvert_exporter": "python",
   "pygments_lexer": "ipython2",
   "version": "2.7.11"
  }
 },
 "nbformat": 4,
 "nbformat_minor": 0
}
